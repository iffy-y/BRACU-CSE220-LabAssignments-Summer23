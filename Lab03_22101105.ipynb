{
  "cells": [
    {
      "attachments": {},
      "cell_type": "markdown",
      "metadata": {
        "id": "NiUM_IVAgFmb"
      },
      "source": [
        "***You must run this cell to install dependency***"
      ]
    },
    {
      "cell_type": "code",
      "execution_count": 1,
      "metadata": {
        "colab": {
          "base_uri": "https://localhost:8080/"
        },
        "id": "zES7ud9gf695",
        "outputId": "4d2634ea-77f8-4db0-9f88-d726ac4ecdb9"
      },
      "outputs": [
        {
          "name": "stdout",
          "output_type": "stream",
          "text": [
            "Requirement already satisfied: fhm-unittest in c:\\users\\user\\appdata\\local\\programs\\python\\python310\\lib\\site-packages (1.0.1)\n"
          ]
        },
        {
          "name": "stderr",
          "output_type": "stream",
          "text": [
            "WARNING: You are using pip version 21.2.4; however, version 23.1.2 is available.\n",
            "You should consider upgrading via the 'C:\\Users\\User\\AppData\\Local\\Programs\\Python\\Python310\\python.exe -m pip install --upgrade pip' command.\n",
            "WARNING: You are using pip version 21.2.4; however, version 23.1.2 is available.\n",
            "You should consider upgrading via the 'C:\\Users\\User\\AppData\\Local\\Programs\\Python\\Python310\\python.exe -m pip install --upgrade pip' command.\n",
            "c:\\Users\\User\\AppData\\Local\\Programs\\Python\\Python310\\lib\\site-packages\\fuzzywuzzy\\fuzz.py:11: UserWarning: Using slow pure-python SequenceMatcher. Install python-Levenshtein to remove this warning\n",
            "  warnings.warn('Using slow pure-python SequenceMatcher. Install python-Levenshtein to remove this warning')\n"
          ]
        },
        {
          "name": "stdout",
          "output_type": "stream",
          "text": [
            "Requirement already satisfied: fuzzywuzzy in c:\\users\\user\\appdata\\local\\programs\\python\\python310\\lib\\site-packages (0.18.0)\n"
          ]
        }
      ],
      "source": [
        "# You must run this cell to install dependency\n",
        "! pip3 install fhm-unittest\n",
        "! pip3 install fuzzywuzzy\n",
        "import fhm_unittest as unittest\n",
        "import numpy as np"
      ]
    },
    {
      "attachments": {},
      "cell_type": "markdown",
      "metadata": {
        "id": "fdEbakalfuRC"
      },
      "source": [
        " ***You must Run this cell for your driver code to execute successfully***"
      ]
    },
    {
      "cell_type": "code",
      "execution_count": 3,
      "metadata": {
        "id": "mxEckgR4fqt8"
      },
      "outputs": [],
      "source": [
        "#Run this cell\n",
        "class Node:\n",
        "  def __init__(self,elem,next = None):\n",
        "    self.elem,self.next = elem,next\n",
        "\n",
        "def createList(arr):\n",
        "  head = Node(arr[0])\n",
        "  tail = head\n",
        "  for i in range(1,len(arr)):\n",
        "    newNode = Node(arr[i])\n",
        "    tail.next = newNode\n",
        "    tail = newNode\n",
        "  return head\n",
        "\n",
        "def printLinkedList(head):\n",
        "  temp = head\n",
        "  while temp != None:\n",
        "    if temp.next != None:\n",
        "      print(temp.elem, end = '-->')\n",
        "    else:\n",
        "      print(temp.elem)\n",
        "    temp = temp.next\n",
        "  print()\n"
      ]
    },
    {
      "attachments": {},
      "cell_type": "markdown",
      "metadata": {
        "id": "Clj0DClwgJZK"
      },
      "source": [
        "Assemble Conga Line"
      ]
    },
    {
      "cell_type": "code",
      "execution_count": 4,
      "metadata": {
        "colab": {
          "base_uri": "https://localhost:8080/"
        },
        "id": "H4BQrUJn9XLs",
        "outputId": "013f9a8c-9dc5-4dcf-c864-084e21cd0876"
      },
      "outputs": [
        {
          "name": "stdout",
          "output_type": "stream",
          "text": [
            "Original Conga Line:  10-->15-->34-->41-->56-->72\n",
            "\n",
            "True\n",
            "Accepted\n",
            "\n",
            "Original Conga Line:  10-->15-->44-->41-->56-->72\n",
            "\n",
            "False\n",
            "Accepted\n",
            "\n"
          ]
        }
      ],
      "source": [
        "def conga_line(head):\n",
        "  #To DO\n",
        "    temp = head\n",
        "\n",
        "    while temp.next!=None:\n",
        "        if temp.elem > temp.next.elem:\n",
        "            return False\n",
        "        temp = temp.next\n",
        "\n",
        "    return True\n",
        "\n",
        "\n",
        "\n",
        "head = createList(np.array([10,15,34,41,56,72]))\n",
        "print('Original Conga Line: ', end = ' ')\n",
        "printLinkedList(head)\n",
        "returned_value = conga_line(head)\n",
        "print(returned_value) #This should print True\n",
        "unittest.output_test(returned_value, True)\n",
        "print()\n",
        "\n",
        "head = createList(np.array([10,15,44,41,56,72]))\n",
        "print('Original Conga Line: ', end = ' ')\n",
        "printLinkedList(head)\n",
        "returned_value = conga_line(head)\n",
        "print(returned_value) #This should print False\n",
        "unittest.output_test(returned_value, False)\n",
        "print()\n",
        "\n",
        "\n"
      ]
    },
    {
      "attachments": {},
      "cell_type": "markdown",
      "metadata": {
        "id": "V9rtJF9VPAtd"
      },
      "source": [
        "Remove Compartment"
      ]
    },
    {
      "cell_type": "code",
      "execution_count": 5,
      "metadata": {
        "colab": {
          "base_uri": "https://localhost:8080/"
        },
        "id": "xttcJVbJ9id1",
        "outputId": "df2f08e4-f1dd-4c77-d3e6-81dbdf77b735"
      },
      "outputs": [
        {
          "name": "stdout",
          "output_type": "stream",
          "text": [
            "Original Compartment Sequence:  10-->15-->34-->41-->56-->72\n",
            "\n",
            "Changed Compartment Sequence:  10-->15-->34-->41-->72\n",
            "\n",
            "\n",
            "Original Compartment Sequence:  10-->15-->34-->41-->56-->72\n",
            "\n",
            "Changed Compartment Sequence:  10-->15-->34-->41-->56-->72\n",
            "\n",
            "\n",
            "Original Compartment Sequence:  10-->15-->34-->41-->56-->72\n",
            "\n",
            "Changed Compartment Sequence:  15-->34-->41-->56-->72\n",
            "\n",
            "\n"
          ]
        }
      ],
      "source": [
        "def remove_compartment(head,n):\n",
        "    def countNode(x):\n",
        "        # To Do\n",
        "        count = 0\n",
        "        temp = x\n",
        "\n",
        "        while temp!= None:\n",
        "            count+= 1\n",
        "            temp = temp.next\n",
        "\n",
        "        return count\n",
        "\n",
        "    count = countNode(head)\n",
        "    idx = count-n\n",
        "\n",
        "    def nodeAt(head, idx):\n",
        "        # To Do\n",
        "        count = 0\n",
        "        temp = head\n",
        "        ref = None\n",
        "        while temp!= None:\n",
        "            if count == idx:\n",
        "                ref = temp\n",
        "                break\n",
        "            temp = temp.next\n",
        "            count += 1\n",
        "        if ref == None:\n",
        "            return None\n",
        "        return ref\n",
        "    if n > count:\n",
        "        return head\n",
        "    elif n == count:\n",
        "        head = head.next\n",
        "    else:\n",
        "\n",
        "        prev_node = nodeAt(head, idx-1)\n",
        "        prev_node.next = prev_node.next.next\n",
        "\n",
        "    return head\n",
        "\n",
        "\n",
        "\n",
        "\n",
        "\n",
        "\n",
        "\n",
        "\n",
        "head = createList(np.array([10,15,34,41,56,72]))\n",
        "print('Original Compartment Sequence: ', end = ' ')\n",
        "printLinkedList(head)\n",
        "head = remove_compartment(head,2)\n",
        "print('Changed Compartment Sequence: ', end = ' ')\n",
        "printLinkedList(head) #This should print 10-->15-->34-->41-->72\n",
        "print()\n",
        "\n",
        "head = createList(np.array([10,15,34,41,56,72]))\n",
        "print('Original Compartment Sequence: ', end = ' ')\n",
        "printLinkedList(head)\n",
        "head = remove_compartment(head,7)\n",
        "print('Changed Compartment Sequence: ', end = ' ')\n",
        "printLinkedList(head) #This should print 10-->15-->34-->41-->56-->72\n",
        "print()\n",
        "\n",
        "head = createList(np.array([10,15,34,41,56,72]))\n",
        "print('Original Compartment Sequence: ', end = ' ')\n",
        "printLinkedList(head)\n",
        "head = remove_compartment(head,6)\n",
        "print('Changed Compartment Sequence: ', end = ' ')\n",
        "printLinkedList(head) #This should print 15-->34-->41-->56-->72\n",
        "print()"
      ]
    },
    {
      "attachments": {},
      "cell_type": "markdown",
      "metadata": {
        "id": "hiH6KfWC8p9E"
      },
      "source": [
        "Shuffle on index"
      ]
    },
    {
      "cell_type": "code",
      "execution_count": 6,
      "metadata": {
        "colab": {
          "base_uri": "https://localhost:8080/"
        },
        "id": "-AQh4Ka1PGQ4",
        "outputId": "07926ffa-13b5-43f1-b21e-c90b6315e93d"
      },
      "outputs": [
        {
          "name": "stdout",
          "output_type": "stream",
          "text": [
            "Original Play List:  S-->E-->N-->P-->A-->I\n",
            "\n",
            "New Play List:  S-->N-->A-->E-->P-->I\n",
            "\n",
            "\n",
            "Original Play List:  N-->I-->S-->H-->I-->N-->O-->Y-->A\n",
            "\n",
            "New Play List:  N-->S-->I-->O-->A-->I-->H-->N-->Y\n",
            "\n",
            "\n"
          ]
        }
      ],
      "source": [
        "def shuffle_on_index(head):\n",
        "  #To DO\n",
        "  head1 = Node(head.elem, None)\n",
        "  head2 = Node(head.next.elem, None)\n",
        "  tail1 = head1\n",
        "  tail2 = head2\n",
        "  temp = head\n",
        "  count = 0\n",
        "  while temp != None:\n",
        "    if count < 2:\n",
        "      count += 1\n",
        "    else:\n",
        "      if count % 2 == 0:\n",
        "        n = Node(temp.elem,None)\n",
        "        tail1.next = n\n",
        "        tail1 = tail1.next\n",
        "      else:\n",
        "        n = Node(temp.elem,None)\n",
        "        tail2.next = n\n",
        "        tail2 = tail2.next\n",
        "      count += 1\n",
        "    temp = temp.next\n",
        "  tail1.next = head2\n",
        "  return head1\n",
        "\n",
        "\n",
        "\n",
        "\n",
        "head = createList(np.array(['S','E','N','P','A','I']))\n",
        "print('Original Play List: ', end = ' ')\n",
        "printLinkedList(head)\n",
        "newhead =  shuffle_on_index(head)\n",
        "print('New Play List: ', end = ' ')\n",
        "printLinkedList(newhead) #This should print S-->N-->A-->E-->P-->I\n",
        "print()\n",
        "\n",
        "head = createList(np.array(['N','I','S','H','I','N','O','Y','A']))\n",
        "print('Original Play List: ', end = ' ')\n",
        "printLinkedList(head)\n",
        "newhead =  shuffle_on_index(head)\n",
        "print('New Play List: ', end = ' ')\n",
        "printLinkedList(newhead) #This should print N-->S-->I-->O-->A-->I-->H-->N-->Y\n",
        "print()\n"
      ]
    },
    {
      "attachments": {},
      "cell_type": "markdown",
      "metadata": {
        "id": "hoDltlzi-GJD"
      },
      "source": [
        "Scavenger hunt"
      ]
    },
    {
      "cell_type": "code",
      "execution_count": 7,
      "metadata": {
        "id": "FbGrR6QI9Hjv"
      },
      "outputs": [
        {
          "name": "stdout",
          "output_type": "stream",
          "text": [
            "Given Clue List:  7-->85-->54-->16-->11-->30\n",
            "\n",
            "85 is greater than 7\n",
            "No next element greater than 85\n",
            "No next element greater than 54\n",
            "30 is greater than 16\n",
            "30 is greater than 11\n",
            "No next element greater than 30\n",
            "\n",
            "Given Clue List:  20-->13-->33-->12\n",
            "\n",
            "33 is greater than 20\n",
            "33 is greater than 13\n",
            "No next element greater than 33\n",
            "No next element greater than 12\n",
            "\n"
          ]
        }
      ],
      "source": [
        "def find_next_clue(head):\n",
        "  temp = head\n",
        "  while temp != None:\n",
        "    flag = True\n",
        "    temp1 = temp\n",
        "    while temp1 != None:\n",
        "      if temp1.elem > temp.elem:\n",
        "        print(f'{temp1.elem} is greater than {temp.elem}')\n",
        "        flag = False\n",
        "        break\n",
        "      temp1 = temp1.next\n",
        "    if flag == True:\n",
        "      print(f'No next element greater than {temp.elem}')\n",
        "    temp = temp.next\n",
        "  pass\n",
        "\n",
        "\n",
        "head = createList(np.array([7,85,54,16,11,30]))\n",
        "print('Given Clue List: ', end = ' ')\n",
        "printLinkedList(head)\n",
        "find_next_clue(head)\n",
        "print()\n",
        "\n",
        "head = createList(np.array([20,13,33,12]))\n",
        "print('Given Clue List: ', end = ' ')\n",
        "printLinkedList(head)\n",
        "find_next_clue(head)\n",
        "print()"
      ]
    }
  ],
  "metadata": {
    "colab": {
      "provenance": []
    },
    "kernelspec": {
      "display_name": "Python 3",
      "name": "python3"
    },
    "language_info": {
      "codemirror_mode": {
        "name": "ipython",
        "version": 3
      },
      "file_extension": ".py",
      "mimetype": "text/x-python",
      "name": "python",
      "nbconvert_exporter": "python",
      "pygments_lexer": "ipython3",
      "version": "3.10.1"
    }
  },
  "nbformat": 4,
  "nbformat_minor": 0
}
