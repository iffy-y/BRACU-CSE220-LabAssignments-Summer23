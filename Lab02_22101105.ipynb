{
  "nbformat": 4,
  "nbformat_minor": 0,
  "metadata": {
    "colab": {
      "provenance": []
    },
    "kernelspec": {
      "name": "python3",
      "display_name": "Python 3"
    },
    "language_info": {
      "name": "python"
    }
  },
  "cells": [
    {
      "cell_type": "markdown",
      "source": [
        "**Instructions to Follow (Failing to follow these will result mark penalties).**\n",
        "\n",
        "\n",
        "1.   You can not use any built-in function except len()\n",
        "2.   You can not use any other python collections except array (e.g: tuptle, dictionaries etc.).\n",
        "3. We will initialize a new array using numpy library. We have to mention the fixed size during initialization. There might be two approach.\n",
        "\n",
        "  i. arr = np.zeros((10), dtype = int) #Initializing an array length 10 with values 0\n",
        "\n",
        "  ii. arr = np.array([10, 20, 30, 40]) #Initializing an array length 4 with the values.\n",
        "4. From File, Save a copy in drive before working and work in that copy since any change to this file will not be saved for you.\n",
        "\n",
        "\n",
        "\n",
        "\n"
      ],
      "metadata": {
        "id": "l7Neg32qlqKi"
      }
    },
    {
      "cell_type": "code",
      "source": [],
      "metadata": {
        "id": "dv76HB425doV"
      },
      "execution_count": null,
      "outputs": []
    },
    {
      "cell_type": "code",
      "execution_count": null,
      "metadata": {
        "id": "1fdSwhC1lman",
        "colab": {
          "base_uri": "https://localhost:8080/"
        },
        "outputId": "63296c8c-e483-4e5f-c66d-48bb1081ae7b"
      },
      "outputs": [
        {
          "output_type": "stream",
          "name": "stdout",
          "text": [
            "Looking in indexes: https://pypi.org/simple, https://us-python.pkg.dev/colab-wheels/public/simple/\n",
            "Collecting fhm-unittest\n",
            "  Downloading fhm_unittest-1.0.1-py3-none-any.whl (2.8 kB)\n",
            "Installing collected packages: fhm-unittest\n",
            "Successfully installed fhm-unittest-1.0.1\n",
            "Looking in indexes: https://pypi.org/simple, https://us-python.pkg.dev/colab-wheels/public/simple/\n",
            "Collecting fuzzywuzzy\n",
            "  Downloading fuzzywuzzy-0.18.0-py2.py3-none-any.whl (18 kB)\n",
            "Installing collected packages: fuzzywuzzy\n",
            "Successfully installed fuzzywuzzy-0.18.0\n"
          ]
        },
        {
          "output_type": "stream",
          "name": "stderr",
          "text": [
            "/usr/local/lib/python3.10/dist-packages/fuzzywuzzy/fuzz.py:11: UserWarning: Using slow pure-python SequenceMatcher. Install python-Levenshtein to remove this warning\n",
            "  warnings.warn('Using slow pure-python SequenceMatcher. Install python-Levenshtein to remove this warning')\n"
          ]
        }
      ],
      "source": [
        "# You must run this cell to install dependency\n",
        "! pip3 install fhm-unittest\n",
        "! pip3 install fuzzywuzzy\n",
        "import fhm_unittest as unittest\n",
        "import numpy as np"
      ]
    },
    {
      "cell_type": "code",
      "source": [
        "#You must run this cell to print matrix and for the driver code to work\n",
        "def print_matrix(m):\n",
        "  row,col = m.shape\n",
        "  for i in range(row):\n",
        "    c = 1\n",
        "    print('|', end='')\n",
        "    for j in range(col):\n",
        "      c += 1\n",
        "      if(len(str(m[i][j])) == 1):\n",
        "        print(' ',m[i][j], end = '  |')\n",
        "        c += 6\n",
        "      else:\n",
        "        print(' ',m[i][j], end = ' |')\n",
        "        c += 6\n",
        "    print()\n",
        "    print('-'*(c-col))\n",
        "\n"
      ],
      "metadata": {
        "id": "s1d8VpMcmAYI"
      },
      "execution_count": null,
      "outputs": []
    },
    {
      "cell_type": "markdown",
      "source": [
        "Task 1: Zigzag Walk"
      ],
      "metadata": {
        "id": "Q2LBZRlumbFr"
      }
    },
    {
      "cell_type": "code",
      "source": [
        "def walk_zigzag(floor):\n",
        "  #To Do\n",
        "\n",
        "    for i in range(floor.shape[0]):\n",
        "        if i%2==0:\n",
        "            start, end, step = 0, floor.shape[1], 2\n",
        "        elif i%2!= 0:\n",
        "            start, end, step = floor.shape[1]-1, -1, -2\n",
        "        for k in range(start, end, step):\n",
        "            print(floor[i][k], end=' ')\n",
        "        print()\n",
        "\n",
        "floor = np.array([[ '3W' , '8B' , '4W' , '6B' , '1W' , '5B'],['3B' , '2W' , '1B' , '6W' , '3B' , '8W'],\n",
        "                  ['9W' , '0B' , '7W' , '5B' , '3W' , '8B'],['2B' , '1W' , '3B' , '6W' , '0B' , '4W'],\n",
        "                   ['1W' , '4B' , '2W' , '8B' , '6W' , '6B']])\n",
        "print_matrix(floor)\n",
        "print('Walking Sequence:')\n",
        "walk_zigzag(floor)\n",
        "#This should print\n",
        "# 3W 4W 1W\n",
        "# 8W 6W 2W\n",
        "# 9W 7W 3W\n",
        "# 4W 6W 1W\n",
        "# 1W 2W 6W\n"
      ],
      "metadata": {
        "id": "_F8YAVawmMwC",
        "outputId": "e48c97a5-21df-4a84-9749-080276de2909",
        "colab": {
          "base_uri": "https://localhost:8080/"
        }
      },
      "execution_count": null,
      "outputs": [
        {
          "output_type": "stream",
          "name": "stdout",
          "text": [
            "|  3W |  8B |  4W |  6B |  1W |  5B |\n",
            "-------------------------------------\n",
            "|  3B |  2W |  1B |  6W |  3B |  8W |\n",
            "-------------------------------------\n",
            "|  9W |  0B |  7W |  5B |  3W |  8B |\n",
            "-------------------------------------\n",
            "|  2B |  1W |  3B |  6W |  0B |  4W |\n",
            "-------------------------------------\n",
            "|  1W |  4B |  2W |  8B |  6W |  6B |\n",
            "-------------------------------------\n",
            "Walking Sequence:\n",
            "3W 4W 1W \n",
            "8W 6W 2W \n",
            "9W 7W 3W \n",
            "4W 6W 1W \n",
            "1W 2W 6W \n"
          ]
        }
      ]
    },
    {
      "cell_type": "markdown",
      "source": [
        "Task 2: Landscape Screen"
      ],
      "metadata": {
        "id": "XP-y7UlNm3BY"
      }
    },
    {
      "cell_type": "code",
      "source": [
        "def landscape(m):\n",
        "  #To Do\n",
        "  n = np.zeros((m.shape[1], m.shape[0]), dtype=int)\n",
        "  for i in range(m.shape[0]):\n",
        "    for j in range(m.shape[1]):\n",
        "        n[j][i] = m[i][j]\n",
        "\n",
        "  return n\n",
        "\n",
        "\n",
        "m = np.random.randint(15,size=(4,3)) #This creates an np array of 4 x 3 where the values are random numbers from [0,15) range\n",
        "print_matrix(m)\n",
        "print()\n",
        "print_matrix(landscape(m))"
      ],
      "metadata": {
        "id": "3LQXKBz3mUkj",
        "colab": {
          "base_uri": "https://localhost:8080/"
        },
        "outputId": "f5ce44a3-2c03-4e27-fd34-2203ce81b475"
      },
      "execution_count": null,
      "outputs": [
        {
          "output_type": "stream",
          "name": "stdout",
          "text": [
            "|  7  |  5  |  10 |\n",
            "-------------------\n",
            "|  14 |  4  |  13 |\n",
            "-------------------\n",
            "|  13 |  9  |  12 |\n",
            "-------------------\n",
            "|  14 |  4  |  1  |\n",
            "-------------------\n",
            "\n",
            "|  7  |  14 |  13 |  14 |\n",
            "-------------------------\n",
            "|  5  |  4  |  9  |  4  |\n",
            "-------------------------\n",
            "|  10 |  13 |  12 |  1  |\n",
            "-------------------------\n"
          ]
        }
      ]
    },
    {
      "cell_type": "markdown",
      "source": [
        "Task 3: Seating Arrangement"
      ],
      "metadata": {
        "id": "piw0POuVna4_"
      }
    },
    {
      "cell_type": "code",
      "source": [
        "def arrangement(m, diff):\n",
        "  #To Do\n",
        "  for i in range(m.shape[0]):\n",
        "    for j in range(m.shape[1]):\n",
        "        a = abs(m[i][j] - m[j][i])\n",
        "        if a!= diff:\n",
        "            return False\n",
        "            break\n",
        "\n",
        "\n",
        "  return True\n",
        "\n",
        "m = np.array([[7,13,9,14],[12,8,15,11],[10,17,3,2],[15,10,1,4]])\n",
        "print_matrix(m)\n",
        "print()\n",
        "returned_value = arrangement(m,1)\n",
        "print(returned_value)#This should print False\n",
        "unittest.output_test(returned_value, False)"
      ],
      "metadata": {
        "id": "H4EDQCTfnes7",
        "colab": {
          "base_uri": "https://localhost:8080/"
        },
        "outputId": "947d7214-7a3b-4e01-e25f-0c6ef0998c33"
      },
      "execution_count": null,
      "outputs": [
        {
          "output_type": "stream",
          "name": "stdout",
          "text": [
            "|  7  |  13 |  9  |  14 |\n",
            "-------------------------\n",
            "|  12 |  8  |  15 |  11 |\n",
            "-------------------------\n",
            "|  10 |  17 |  3  |  2  |\n",
            "-------------------------\n",
            "|  15 |  10 |  1  |  4  |\n",
            "-------------------------\n",
            "\n",
            "False\n",
            "Accepted\n"
          ]
        }
      ]
    },
    {
      "cell_type": "markdown",
      "source": [
        "Task 4: Chess Piece"
      ],
      "metadata": {
        "id": "dULlGfSWoa_-"
      }
    },
    {
      "cell_type": "code",
      "source": [
        "def show_knight_move(knight):\n",
        "  #To Do\n",
        "    board = np.zeros((8,8), dtype=int)\n",
        "    r, c = knight\n",
        "\n",
        "    for i in range(8):\n",
        "        for j in range(8):\n",
        "            if (i, j) == (r, c):\n",
        "                board[i][j] = 33\n",
        "\n",
        "            elif ((i==(r+2) or i==(r-2)) and (j==(c+1) or j==(c-1))) or ((i==(r+1) or i==(r-1)) and (j==(c+2) or j==(c-2))):\n",
        "                if i< 8 and j<8:\n",
        "                    board[i][j] = 3\n",
        "\n",
        "\n",
        "\n",
        "    return board\n",
        "\n",
        "\n",
        "knight = (3,4)\n",
        "chess_board = show_knight_move(knight)\n",
        "print_matrix(chess_board)"
      ],
      "metadata": {
        "id": "CXu8BAjWn6IN",
        "colab": {
          "base_uri": "https://localhost:8080/"
        },
        "outputId": "3e94727e-5bc4-4888-9281-da0f7732f9d9"
      },
      "execution_count": null,
      "outputs": [
        {
          "output_type": "stream",
          "name": "stdout",
          "text": [
            "|  0  |  0  |  0  |  0  |  0  |  0  |  0  |  0  |\n",
            "-------------------------------------------------\n",
            "|  0  |  0  |  0  |  3  |  0  |  3  |  0  |  0  |\n",
            "-------------------------------------------------\n",
            "|  0  |  0  |  3  |  0  |  0  |  0  |  3  |  0  |\n",
            "-------------------------------------------------\n",
            "|  0  |  0  |  0  |  0  |  33 |  0  |  0  |  0  |\n",
            "-------------------------------------------------\n",
            "|  0  |  0  |  3  |  0  |  0  |  0  |  3  |  0  |\n",
            "-------------------------------------------------\n",
            "|  0  |  0  |  0  |  3  |  0  |  3  |  0  |  0  |\n",
            "-------------------------------------------------\n",
            "|  0  |  0  |  0  |  0  |  0  |  0  |  0  |  0  |\n",
            "-------------------------------------------------\n",
            "|  0  |  0  |  0  |  0  |  0  |  0  |  0  |  0  |\n",
            "-------------------------------------------------\n"
          ]
        }
      ]
    },
    {
      "cell_type": "markdown",
      "source": [
        "Bonus Task (UNGRADED)"
      ],
      "metadata": {
        "id": "Dox4AStYo8Xk"
      }
    },
    {
      "cell_type": "code",
      "source": [
        "def topple(knight,rook):\n",
        "  #To Do\n",
        "  return None\n",
        "\n",
        "\n",
        "knight = (5,6)\n",
        "rook = (5,1)\n",
        "chess_board, ans = topple(knight,rook)\n",
        "print_matrix(chess_board)\n",
        "print(ans) #This should print Rook can kill"
      ],
      "metadata": {
        "id": "AvzKs7wnoraw"
      },
      "execution_count": null,
      "outputs": []
    }
  ]
}