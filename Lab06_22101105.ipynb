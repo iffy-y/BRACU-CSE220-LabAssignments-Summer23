{
  "cells": [
    {
      "cell_type": "code",
      "execution_count": 1,
      "metadata": {
        "colab": {
          "base_uri": "https://localhost:8080/"
        },
        "id": "QZTnPqwZ_C0o",
        "outputId": "c692bfb1-7a12-43bb-9ce3-712f6a40fa6e"
      },
      "outputs": [
        {
          "data": {
            "text/plain": [
              "120"
            ]
          },
          "execution_count": 1,
          "metadata": {},
          "output_type": "execute_result"
        }
      ],
      "source": [
        "def factorial(n):\n",
        "  if n==1 or n==0:\n",
        "    return 1\n",
        "  return n*factorial(n-1)\n",
        "factorial(5)\n",
        "  "
      ]
    },
    {
      "cell_type": "code",
      "execution_count": 2,
      "metadata": {
        "colab": {
          "base_uri": "https://localhost:8080/"
        },
        "id": "IBEmXlhaAP9a",
        "outputId": "2082b4f5-fa21-48b2-e0a2-4bf5f84dd38e"
      },
      "outputs": [
        {
          "data": {
            "text/plain": [
              "8"
            ]
          },
          "execution_count": 2,
          "metadata": {},
          "output_type": "execute_result"
        }
      ],
      "source": [
        "def fibonacci(n):\n",
        "  if n==0 or n==1:\n",
        "    return n\n",
        "  else: return fibonacci(n-1)+fibonacci(n-2)\n",
        "\n",
        "fibonacci(6)"
      ]
    },
    {
      "cell_type": "code",
      "execution_count": 3,
      "metadata": {
        "colab": {
          "base_uri": "https://localhost:8080/"
        },
        "id": "g9GXFMDZA04p",
        "outputId": "d8443999-731f-4888-ca18-237d0453a0b4"
      },
      "outputs": [
        {
          "name": "stdout",
          "output_type": "stream",
          "text": [
            "10 20 30 40 "
          ]
        }
      ],
      "source": [
        "def printarr(arr,i=0):\n",
        "  if i<len(arr):\n",
        "    print(arr[i],end=\" \")\n",
        "    printarr(arr,i+1)\n",
        "\n",
        "arr=[10,20,30,40]\n",
        "printarr(arr)\n"
      ]
    },
    {
      "cell_type": "code",
      "execution_count": 4,
      "metadata": {
        "colab": {
          "base_uri": "https://localhost:8080/"
        },
        "id": "vHZ29OmVCxIQ",
        "outputId": "11e5c331-3e72-471f-8f4a-f9e46c7ddc40"
      },
      "outputs": [
        {
          "data": {
            "text/plain": [
              "9"
            ]
          },
          "execution_count": 4,
          "metadata": {},
          "output_type": "execute_result"
        }
      ],
      "source": [
        "def powerN(b,n):\n",
        "  if n==0:\n",
        "    return 1\n",
        "  else: return b*powerN(b,n-1)\n",
        "\n",
        "powerN(3,2)\n"
      ]
    },
    {
      "cell_type": "code",
      "execution_count": 5,
      "metadata": {
        "colab": {
          "base_uri": "https://localhost:8080/"
        },
        "id": "Xj4z7OClI-VV",
        "outputId": "7dfdf02e-12fd-45dc-80dc-ac32a7255415"
      },
      "outputs": [
        {
          "name": "stdout",
          "output_type": "stream",
          "text": [
            "1010"
          ]
        }
      ],
      "source": [
        "def binary(n):\n",
        "  if not n:\n",
        "    return\n",
        "  else:\n",
        "    binary(n//2)\n",
        "    print(n%2,end=\"\")\n",
        "\n",
        "binary(10)\n"
      ]
    },
    {
      "cell_type": "code",
      "execution_count": 6,
      "metadata": {
        "id": "kUBpCqbUKD9q"
      },
      "outputs": [],
      "source": [
        "class Node:\n",
        "  def __init__(self,el,n):\n",
        "    self.element=el\n",
        "    self.next=n\n"
      ]
    },
    {
      "cell_type": "code",
      "execution_count": 7,
      "metadata": {
        "id": "CCqODoPYKiyb"
      },
      "outputs": [],
      "source": [
        "def linkedList(arr):\n",
        "  h=Node(arr[0],None)\n",
        "  head=h\n",
        "  tail=head\n",
        "  for i in range(1,len(arr)):\n",
        "    n=Node(arr[i],None)\n",
        "    tail.next=n\n",
        "    tail=n\n",
        "  return head"
      ]
    },
    {
      "cell_type": "code",
      "execution_count": 8,
      "metadata": {
        "colab": {
          "base_uri": "https://localhost:8080/"
        },
        "id": "i7taD7_xLo6S",
        "outputId": "10205681-6d66-4d12-ae87-2581356e6a80"
      },
      "outputs": [
        {
          "name": "stdout",
          "output_type": "stream",
          "text": [
            "150\n"
          ]
        }
      ],
      "source": [
        "def addElement(head):\n",
        "  if head:\n",
        "    return head.element+addElement(head.next)\n",
        "  else: return 0\n",
        "\n",
        "arr=[10,20,30,40,50]\n",
        "head=linkedList(arr)\n",
        "print(addElement(head))"
      ]
    },
    {
      "cell_type": "code",
      "execution_count": 9,
      "metadata": {
        "colab": {
          "base_uri": "https://localhost:8080/"
        },
        "id": "qzLD5qyBTQ6z",
        "outputId": "7a7531d0-fc7d-4fcf-ddec-b339db25c029"
      },
      "outputs": [
        {
          "name": "stdout",
          "output_type": "stream",
          "text": [
            "40\n",
            "30\n",
            "20\n",
            "10\n"
          ]
        }
      ],
      "source": [
        "def revList(head):\n",
        "  if head:\n",
        "    revList(head.next)\n",
        "    print(head.element)\n",
        "arr2=[10,20,30,40]\n",
        "headlist=linkedList(arr2)\n",
        "revList(headlist)"
      ]
    },
    {
      "cell_type": "code",
      "execution_count": 10,
      "metadata": {
        "colab": {
          "base_uri": "https://localhost:8080/"
        },
        "id": "dODbTN14UZpq",
        "outputId": "d7548214-7c4f-46b3-9f10-607a9a81a5d6"
      },
      "outputs": [
        {
          "data": {
            "text/plain": [
              "18"
            ]
          },
          "execution_count": 10,
          "metadata": {},
          "output_type": "execute_result"
        }
      ],
      "source": [
        "def hocBuilder(height):\n",
        "  if height==0:\n",
        "    return 0\n",
        "  if height==1:\n",
        "    return 8\n",
        "  else: return 5+hocBuilder(height-1)\n",
        "\n",
        "hocBuilder(3)"
      ]
    },
    {
      "cell_type": "code",
      "execution_count": 11,
      "metadata": {
        "colab": {
          "base_uri": "https://localhost:8080/"
        },
        "id": "FM-hid9-v0bt",
        "outputId": "93717448-54bf-48a4-bab0-8b24446fc0f6"
      },
      "outputs": [
        {
          "name": "stdout",
          "output_type": "stream",
          "text": [
            "1 \n",
            "1 2 \n",
            "1 2 3 \n",
            "1 2 3 4 \n",
            "1 2 3 4 5 \n"
          ]
        }
      ],
      "source": [
        "def printElement(n):\n",
        "  if n>0:\n",
        "      printElement(n-1)\n",
        "      print(n,end=' ')\n",
        "\n",
        "def makeStairs(n):\n",
        "  if n>0: \n",
        "      makeStairs(n-1)\n",
        "      printElement(n)\n",
        "      print()\n",
        "\n",
        "makeStairs(5)"
      ]
    },
    {
      "cell_type": "code",
      "execution_count": 12,
      "metadata": {
        "colab": {
          "base_uri": "https://localhost:8080/"
        },
        "id": "sKGOYN_D68gD",
        "outputId": "3c4fbe98-d505-4a92-b7e2-718170d79547"
      },
      "outputs": [
        {
          "name": "stdout",
          "output_type": "stream",
          "text": [
            "        1\n",
            "      1 2\n",
            "    1 2 3\n",
            "  1 2 3 4\n",
            "1 2 3 4 5\n"
          ]
        }
      ],
      "source": [
        "def revStairs(n,y='1'):\n",
        "    if n>0:\n",
        "      if y=='1':\n",
        "        space=' '*((n*2)-2)+y\n",
        "      else:\n",
        "        space=y[2:]+' '+str(int(y[-1])+1)\n",
        "      print(space)\n",
        "      revStairs(n-1,space)\n",
        "\n",
        "revStairs(5)\n",
        "\n",
        "    \n",
        "    \n"
      ]
    },
    {
      "cell_type": "code",
      "execution_count": 13,
      "metadata": {
        "colab": {
          "base_uri": "https://localhost:8080/"
        },
        "id": "xi8Oor0u7dbh",
        "outputId": "f8ad74ed-997f-4bae-97e0-6cd1bc300983"
      },
      "outputs": [
        {
          "name": "stdout",
          "output_type": "stream",
          "text": [
            "1. Investment: 25000; Profit: 0.0\n",
            "2. Investment: 100000; Profit: 3375.0\n",
            "3. Investment: 250000; Profit: 15375.0\n",
            "4. Investment: 350000; Profit: 23375.0\n"
          ]
        }
      ],
      "source": [
        "class FinalQ: \n",
        "   def print(self,array,idx): \n",
        "       if (idx<len(array)): \n",
        "           profit = self.calcProfit(array[idx])\n",
        "           print(f\"{idx+1}. Investment: {array[idx]}; Profit: {profit}\")\n",
        "           self.print(array,idx+1)  \n",
        "  \n",
        "   def calcProfit(self,investment): \n",
        "       if investment>100000:\n",
        "           return 80.0+self.calcProfit(investment-1000)\n",
        "       elif investment>25000:\n",
        "           return 45.0+self.calcProfit(investment-1000)\n",
        "       else:\n",
        "           return 0.0\n",
        "\n",
        " \n",
        "  \n",
        "array=[25000,100000,250000,350000] \n",
        "f = FinalQ() \n",
        "f.print(array,0)\n"
      ]
    }
  ],
  "metadata": {
    "colab": {
      "provenance": []
    },
    "kernelspec": {
      "display_name": "Python 3",
      "name": "python3"
    },
    "language_info": {
      "name": "python"
    }
  },
  "nbformat": 4,
  "nbformat_minor": 0
}
