{
  "nbformat": 4,
  "nbformat_minor": 0,
  "metadata": {
    "colab": {
      "provenance": []
    },
    "kernelspec": {
      "name": "python3",
      "display_name": "Python 3"
    },
    "language_info": {
      "name": "python"
    }
  },
  "cells": [
    {
      "cell_type": "code",
      "execution_count": 17,
      "metadata": {
        "id": "x8KrVGSbe5SJ"
      },
      "outputs": [],
      "source": [
        "import math\n",
        "import numpy as np\n",
        " \n",
        "\n",
        "def mean(arr):\n",
        "    sum = 0\n",
        "    count = 0\n",
        "    for i in arr:\n",
        "        sum += i\n",
        "        count += 1\n",
        "    mean = sum/count\n",
        "    return mean\n",
        "def standard_deviation(arr):\n",
        "    mean1 = mean(arr)\n",
        "    arr2 = np.zeros(len(arr))\n",
        "    sum= 0\n",
        "    for i in range(len(arr)):\n",
        "        var = arr[i]-mean1\n",
        "        arr2[i] = var\n",
        "    for i in arr2:\n",
        "        sum += i*i\n",
        "    var3 = sum/(len(arr2)-1)\n",
        "    stdev =  math.sqrt(var3)\n",
        "    return stdev\n",
        "def diff(arr):\n",
        "    mean1 = mean(arr)\n",
        "    stdev1 = standard_deviation(arr)\n",
        "    arr4 = np.zeros(len(arr))\n",
        "    a = 0\n",
        "\n",
        "    x = mean1 + 1.5*(stdev1)\n",
        "    y = mean1 - 1.5*(stdev1)\n",
        "\n",
        "    for i in range(len(arr)):\n",
        "        if arr[i]>=x:\n",
        "            arr4[a] = arr[i]\n",
        "            a+=1\n",
        "        if arr[i]<=y:\n",
        "            arr4[a] = arr[i]\n",
        "            a+= 1\n",
        "\n",
        "    arr5 = np.zeros(a, dtype=int)\n",
        "\n",
        "    for i in range(a):\n",
        "        arr5[i] = arr4[i]\n",
        "\n",
        "    return arr5\n",
        "\n",
        "\n"
      ]
    },
    {
      "cell_type": "code",
      "source": [
        "arr = [10, 8, 13, 9, 14, 25, -5, 20, 7, 7, 4]\n",
        "print(mean(arr))\n",
        "print(standard_deviation(arr))\n",
        "print(diff(arr))\n"
      ],
      "metadata": {
        "colab": {
          "base_uri": "https://localhost:8080/"
        },
        "id": "DHRklRc2oF7K",
        "outputId": "527ebc20-edff-47e5-8a89-9131af2b211e"
      },
      "execution_count": 16,
      "outputs": [
        {
          "output_type": "stream",
          "name": "stdout",
          "text": [
            "10.181818181818182\n",
            "7.960127911260996\n",
            "[25 -5]\n"
          ]
        }
      ]
    }
  ]
}